{
 "cells": [
  {
   "cell_type": "code",
   "execution_count": 1,
   "metadata": {
    "collapsed": true
   },
   "outputs": [],
   "source": [
    "import pandas\n",
    "import os\n",
    "import glob\n",
    "import tqdm"
   ]
  },
  {
   "cell_type": "code",
   "execution_count": 2,
   "metadata": {
    "collapsed": true
   },
   "outputs": [],
   "source": [
    "metadata = \"/data1/santiago/BBBC021/metadata/metadata.csv\"\n",
    "images = glob.glob(\"/data1/santiago/BBBC021/experiments/original/*/Image.csv\")\n",
    "correct_columns = 541"
   ]
  },
  {
   "cell_type": "code",
   "execution_count": 3,
   "metadata": {},
   "outputs": [
    {
     "name": "stderr",
     "output_type": "stream",
     "text": [
      "  1%|          | 17/3300 [00:19<42:32,  1.29it/s]  "
     ]
    },
    {
     "name": "stdout",
     "output_type": "stream",
     "text": [
      "0 columns: /data1/santiago/BBBC021/experiments/original/Week4_27861_F03\n"
     ]
    },
    {
     "name": "stderr",
     "output_type": "stream",
     "text": [
      " 10%|▉         | 329/3300 [05:50<33:32,  1.48it/s]  "
     ]
    },
    {
     "name": "stdout",
     "output_type": "stream",
     "text": [
      "0 columns: /data1/santiago/BBBC021/experiments/original/Week7_34641_F10\n"
     ]
    },
    {
     "name": "stderr",
     "output_type": "stream",
     "text": [
      " 15%|█▍        | 480/3300 [08:27<33:45,  1.39it/s]  "
     ]
    },
    {
     "name": "stdout",
     "output_type": "stream",
     "text": [
      "0 columns: /data1/santiago/BBBC021/experiments/original/Week8_38342_D04\n"
     ]
    },
    {
     "name": "stderr",
     "output_type": "stream",
     "text": [
      " 21%|██        | 684/3300 [11:53<26:05,  1.67it/s]  "
     ]
    },
    {
     "name": "stdout",
     "output_type": "stream",
     "text": [
      "0 columns: /data1/santiago/BBBC021/experiments/original/Week7_34681_D02\n"
     ]
    },
    {
     "name": "stderr",
     "output_type": "stream",
     "text": [
      " 21%|██        | 689/3300 [11:59<38:55,  1.12it/s]"
     ]
    },
    {
     "name": "stdout",
     "output_type": "stream",
     "text": [
      "0 columns: /data1/santiago/BBBC021/experiments/original/Week7_34681_E11\n"
     ]
    },
    {
     "name": "stderr",
     "output_type": "stream",
     "text": [
      " 31%|███       | 1018/3300 [18:30<35:11,  1.08it/s] "
     ]
    },
    {
     "name": "stdout",
     "output_type": "stream",
     "text": [
      "0 columns: /data1/santiago/BBBC021/experiments/original/Week8_38203_F03\n"
     ]
    },
    {
     "name": "stderr",
     "output_type": "stream",
     "text": [
      " 32%|███▏      | 1051/3300 [19:05<34:58,  1.07it/s]"
     ]
    },
    {
     "name": "stdout",
     "output_type": "stream",
     "text": [
      "0 columns: /data1/santiago/BBBC021/experiments/original/Week7_34661_C02\n"
     ]
    },
    {
     "name": "stderr",
     "output_type": "stream",
     "text": [
      " 37%|███▋      | 1209/3300 [22:07<31:28,  1.11it/s]  "
     ]
    },
    {
     "name": "stdout",
     "output_type": "stream",
     "text": [
      "0 columns: /data1/santiago/BBBC021/experiments/original/Week10_40111_F08\n"
     ]
    },
    {
     "name": "stderr",
     "output_type": "stream",
     "text": [
      " 38%|███▊      | 1266/3300 [23:18<32:38,  1.04it/s]  "
     ]
    },
    {
     "name": "stdout",
     "output_type": "stream",
     "text": [
      "0 columns: /data1/santiago/BBBC021/experiments/original/Week9_39301_F03\n"
     ]
    },
    {
     "name": "stderr",
     "output_type": "stream",
     "text": [
      " 40%|████      | 1334/3300 [24:47<26:57,  1.22it/s]  "
     ]
    },
    {
     "name": "stdout",
     "output_type": "stream",
     "text": [
      "0 columns: /data1/santiago/BBBC021/experiments/original/Week8_38241_F03\n"
     ]
    },
    {
     "name": "stderr",
     "output_type": "stream",
     "text": [
      " 45%|████▍     | 1472/3300 [27:25<36:35,  1.20s/it]"
     ]
    },
    {
     "name": "stdout",
     "output_type": "stream",
     "text": [
      "0 columns: /data1/santiago/BBBC021/experiments/original/Week10_40119_F09\n"
     ]
    },
    {
     "name": "stderr",
     "output_type": "stream",
     "text": [
      " 70%|███████   | 2310/3300 [44:17<14:40,  1.12it/s]"
     ]
    },
    {
     "name": "stdout",
     "output_type": "stream",
     "text": [
      "0 columns: /data1/santiago/BBBC021/experiments/original/Week7_34641_F11\n"
     ]
    },
    {
     "name": "stderr",
     "output_type": "stream",
     "text": [
      " 73%|███████▎  | 2400/3300 [46:11<18:06,  1.21s/it]"
     ]
    },
    {
     "name": "stdout",
     "output_type": "stream",
     "text": [
      "0 columns: /data1/santiago/BBBC021/experiments/original/Week7_34661_D02\n"
     ]
    },
    {
     "name": "stderr",
     "output_type": "stream",
     "text": [
      " 80%|████████  | 2649/3300 [51:44<10:39,  1.02it/s]"
     ]
    },
    {
     "name": "stdout",
     "output_type": "stream",
     "text": [
      "0 columns: /data1/santiago/BBBC021/experiments/original/Week8_38221_F03\n"
     ]
    },
    {
     "name": "stderr",
     "output_type": "stream",
     "text": [
      " 82%|████████▏ | 2717/3300 [53:15<10:29,  1.08s/it]"
     ]
    },
    {
     "name": "stdout",
     "output_type": "stream",
     "text": [
      "0 columns: /data1/santiago/BBBC021/experiments/original/Week7_34681_C02\n"
     ]
    },
    {
     "name": "stderr",
     "output_type": "stream",
     "text": [
      " 83%|████████▎ | 2755/3300 [53:54<07:32,  1.20it/s]"
     ]
    },
    {
     "name": "stdout",
     "output_type": "stream",
     "text": [
      "0 columns: /data1/santiago/BBBC021/experiments/original/Week7_34681_G08\n"
     ]
    },
    {
     "name": "stderr",
     "output_type": "stream",
     "text": [
      " 84%|████████▍ | 2765/3300 [54:10<10:25,  1.17s/it]"
     ]
    },
    {
     "name": "stdout",
     "output_type": "stream",
     "text": [
      "0 columns: /data1/santiago/BBBC021/experiments/original/Week10_40111_C03\n"
     ]
    },
    {
     "name": "stderr",
     "output_type": "stream",
     "text": [
      " 96%|█████████▌| 3166/3300 [1:02:41<01:35,  1.41it/s]"
     ]
    },
    {
     "name": "stdout",
     "output_type": "stream",
     "text": [
      "0 columns: /data1/santiago/BBBC021/experiments/original/Week10_40119_F11\n"
     ]
    },
    {
     "name": "stderr",
     "output_type": "stream",
     "text": [
      "100%|██████████| 3300/3300 [1:05:33<00:00,  1.32s/it]\n"
     ]
    }
   ],
   "source": [
    "for image in tqdm.tqdm(images):\n",
    "    imagedf = pandas.read_csv(image)\n",
    "    cell_count = imagedf[\"Count_Cells\"].sum()\n",
    "    allfeatures = pandas.DataFrame()\n",
    "    cells = image.replace(\"Image\", \"Cells\")\n",
    "    nuclei = image.replace(\"Image\", \"Nuclei\")\n",
    "    cytoplasm = image.replace(\"Image\", \"Cytoplasm\")\n",
    "    features = [cells, nuclei, cytoplasm]\n",
    "    for feature in features:\n",
    "        prefix = os.path.splitext(feature.split('/')[-1])[0]+\"_\"\n",
    "        df = pandas.read_csv(feature).select_dtypes(include=[\"int\", \"float\"])\n",
    "        for column in df:\n",
    "            allfeatures[prefix + column] = df[column]\n",
    "    if (len(allfeatures.columns) != correct_columns):\n",
    "        print(str(len(allfeatures.columns)) + \" columns: \" + os.path.dirname(image))\n",
    "    if (len(allfeatures) != cell_count):\n",
    "        print(\"Expected: \" + str(cell_count) + \" , Found: \" + str(len(allfeatures)) + \" | \" + os.path.dirname(image))\n",
    "    allfeatures.to_csv(os.path.join(os.path.dirname(image), \"All.csv\"), index=False)"
   ]
  },
  {
   "cell_type": "code",
   "execution_count": null,
   "metadata": {
    "collapsed": true
   },
   "outputs": [],
   "source": []
  },
  {
   "cell_type": "code",
   "execution_count": null,
   "metadata": {
    "collapsed": true
   },
   "outputs": [],
   "source": []
  }
 ],
 "metadata": {
  "kernelspec": {
   "display_name": "Python 3",
   "language": "python",
   "name": "python3"
  },
  "language_info": {
   "codemirror_mode": {
    "name": "ipython",
    "version": 3
   },
   "file_extension": ".py",
   "mimetype": "text/x-python",
   "name": "python",
   "nbconvert_exporter": "python",
   "pygments_lexer": "ipython3",
   "version": "3.6.1"
  }
 },
 "nbformat": 4,
 "nbformat_minor": 2
}
