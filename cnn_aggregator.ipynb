{
 "cells": [
  {
   "cell_type": "code",
   "execution_count": 1,
   "metadata": {
    "collapsed": true
   },
   "outputs": [],
   "source": [
    "import pandas\n",
    "import os\n",
    "import glob\n",
    "import tqdm\n",
    "import re\n",
    "import numpy"
   ]
  },
  {
   "cell_type": "code",
   "execution_count": 2,
   "metadata": {
    "collapsed": true
   },
   "outputs": [],
   "source": [
    "metadata = \"/data1/santiago/BBBC021/metadata/metadata.csv\"\n",
    "plates = set(map(lambda f: f[:-3], glob.glob(\"/data1/santiago/BBBC021/experiments/cnn/Week*\")))\n",
    "out_dir = \"/data1/santiago/BBBC021/experiments/cnn/aggregate/\""
   ]
  },
  {
   "cell_type": "code",
   "execution_count": 3,
   "metadata": {
    "collapsed": true
   },
   "outputs": [],
   "source": [
    "def get_plate(plate):\n",
    "    return os.path.basename(plate)[:-1]"
   ]
  },
  {
   "cell_type": "code",
   "execution_count": 4,
   "metadata": {},
   "outputs": [
    {
     "name": "stderr",
     "output_type": "stream",
     "text": [
      "100%|██████████| 55/55 [01:54<00:00,  2.08s/it]\n"
     ]
    },
    {
     "name": "stdout",
     "output_type": "stream",
     "text": [
      "Done!\n"
     ]
    }
   ],
   "source": [
    "metadf = pandas.read_csv(metadata)\n",
    "metadf = metadf[metadf[\"Image_Metadata_Compound\"] == \"DMSO\"]\n",
    "wells = metadf[\"Metadata_Well\"].unique()\n",
    "meandf = pandas.DataFrame()\n",
    "stddf = pandas.DataFrame()\n",
    "for plate in tqdm.tqdm(plates):\n",
    "    for well in wells:\n",
    "        if get_plate(plate) in metadf[\"Metadata_Plate\"].values and well in metadf[\"Metadata_Well\"].values:\n",
    "            platedf = pandas.DataFrame()\n",
    "            filename = os.path.join(plate + well, \"All.csv\")\n",
    "            if os.stat(filename).st_size > 1:\n",
    "                welldf = pandas.read_csv(filename)\n",
    "                welldf = welldf.select(lambda c: not('ImageNumber' in c or 'ObjectNumber' in c), axis=1)\n",
    "                welldf = welldf.dropna()\n",
    "                platedf = pandas.concat([platedf, welldf])\n",
    "            else:\n",
    "                print(\"Empty DataFrame:\", filename)\n",
    "    meanln = pandas.DataFrame([platedf.mean()])\n",
    "    meanln[\"Plate\"] = [get_plate(plate)]\n",
    "    stdln = pandas.DataFrame([platedf.std()])\n",
    "    stdln[\"Plate\"] = [get_plate(plate)]\n",
    "    meandf = pandas.concat([meandf, meanln])\n",
    "    stddf = pandas.concat([stddf, stdln])\n",
    "for column in stddf.select_dtypes([numpy.number]):\n",
    "    if 0 in stddf[column].values:\n",
    "        meandf = meandf.drop(column, axis=1)\n",
    "        stddf = stddf.drop(column, axis=1)\n",
    "meandf.to_csv(os.path.join(out_dir, \"Mean.csv\"), index=False)\n",
    "stddf.to_csv(os.path.join(out_dir, \"STD.csv\"), index=False)\n",
    "print(\"Done!\")"
   ]
  },
  {
   "cell_type": "code",
   "execution_count": null,
   "metadata": {
    "collapsed": true
   },
   "outputs": [],
   "source": []
  }
 ],
 "metadata": {
  "kernelspec": {
   "display_name": "Python 3",
   "language": "python",
   "name": "python3"
  },
  "language_info": {
   "codemirror_mode": {
    "name": "ipython",
    "version": 3
   },
   "file_extension": ".py",
   "mimetype": "text/x-python",
   "name": "python",
   "nbconvert_exporter": "python",
   "pygments_lexer": "ipython3",
   "version": "3.6.1"
  }
 },
 "nbformat": 4,
 "nbformat_minor": 2
}
