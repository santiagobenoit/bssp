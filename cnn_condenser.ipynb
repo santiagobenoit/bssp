{
 "cells": [
  {
   "cell_type": "code",
   "execution_count": 1,
   "metadata": {
    "collapsed": true
   },
   "outputs": [],
   "source": [
    "import pandas\n",
    "import os\n",
    "import glob\n",
    "import tqdm"
   ]
  },
  {
   "cell_type": "code",
   "execution_count": 2,
   "metadata": {
    "collapsed": true
   },
   "outputs": [],
   "source": [
    "metadata = \"/data1/santiago/BBBC021/metadata/metadata.csv\"\n",
    "images = glob.glob(\"/data1/santiago/BBBC021/experiments/cnn/*/Image.csv\")\n",
    "correct_columns = 541"
   ]
  },
  {
   "cell_type": "code",
   "execution_count": 3,
   "metadata": {},
   "outputs": [
    {
     "name": "stderr",
     "output_type": "stream",
     "text": [
      "100%|██████████| 3300/3300 [1:13:51<00:00,  1.86s/it]\n"
     ]
    }
   ],
   "source": [
    "for image in tqdm.tqdm(images):\n",
    "    imagedf = pandas.read_csv(image)\n",
    "    cell_count = imagedf[\"Count_Cells\"].sum()\n",
    "    allfeatures = pandas.DataFrame()\n",
    "    cells = image.replace(\"Image\", \"Cells\")\n",
    "    nuclei = image.replace(\"Image\", \"Nuclei\")\n",
    "    cytoplasm = image.replace(\"Image\", \"Cytoplasm\")\n",
    "    features = [cells, nuclei, cytoplasm]\n",
    "    for feature in features:\n",
    "        prefix = os.path.splitext(feature.split('/')[-1])[0]+\"_\"\n",
    "        df = pandas.read_csv(feature).select_dtypes(include=[\"int\", \"float\"])\n",
    "        for column in df:\n",
    "            allfeatures[prefix + column] = df[column]\n",
    "    if (len(allfeatures.columns) != correct_columns):\n",
    "        print(str(len(allfeatures.columns)) + \" columns: \" + os.path.dirname(image))\n",
    "    if (len(allfeatures) != cell_count):\n",
    "        print(\"Expected: \" + str(cell_count) + \" , Found: \" + str(len(allfeatures)) + \" | \" + os.path.dirname(image))\n",
    "    allfeatures.to_csv(os.path.join(os.path.dirname(image), \"All.csv\"), index=False)"
   ]
  },
  {
   "cell_type": "code",
   "execution_count": null,
   "metadata": {
    "collapsed": true
   },
   "outputs": [],
   "source": []
  },
  {
   "cell_type": "code",
   "execution_count": null,
   "metadata": {
    "collapsed": true
   },
   "outputs": [],
   "source": []
  }
 ],
 "metadata": {
  "kernelspec": {
   "display_name": "Python 3",
   "language": "python",
   "name": "python3"
  },
  "language_info": {
   "codemirror_mode": {
    "name": "ipython",
    "version": 3
   },
   "file_extension": ".py",
   "mimetype": "text/x-python",
   "name": "python",
   "nbconvert_exporter": "python",
   "pygments_lexer": "ipython3",
   "version": "3.6.1"
  }
 },
 "nbformat": 4,
 "nbformat_minor": 2
}
