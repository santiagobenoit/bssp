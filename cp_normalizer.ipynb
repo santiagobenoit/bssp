{
 "cells": [
  {
   "cell_type": "code",
   "execution_count": 1,
   "metadata": {
    "collapsed": true
   },
   "outputs": [],
   "source": [
    "import pandas\n",
    "import os\n",
    "import glob\n",
    "import numpy\n",
    "import tqdm"
   ]
  },
  {
   "cell_type": "code",
   "execution_count": 2,
   "metadata": {},
   "outputs": [],
   "source": [
    "wells = glob.glob(\"/data1/santiago/BBBC021/experiments/original/Week*/All.csv\")\n",
    "meandf = pandas.read_csv(\"/data1/santiago/BBBC021/experiments/original/aggregate/Mean.csv\")\n",
    "stddf = pandas.read_csv(\"/data1/santiago/BBBC021/experiments/original/aggregate/STD.csv\")\n",
    "out_dir = \"/data1/santiago/BBBC021/experiments/original/normalized/\""
   ]
  },
  {
   "cell_type": "code",
   "execution_count": 3,
   "metadata": {
    "collapsed": true
   },
   "outputs": [],
   "source": [
    "def get_plate(well):\n",
    "    return os.path.basename(well[:-12])"
   ]
  },
  {
   "cell_type": "code",
   "execution_count": 4,
   "metadata": {
    "collapsed": true
   },
   "outputs": [],
   "source": [
    "def get_id(well):\n",
    "    return os.path.basename(well[:-8])"
   ]
  },
  {
   "cell_type": "code",
   "execution_count": 5,
   "metadata": {},
   "outputs": [
    {
     "name": "stderr",
     "output_type": "stream",
     "text": [
      "100%|██████████| 3300/3300 [1:14:05<00:00,  1.32s/it]\n"
     ]
    }
   ],
   "source": [
    "for well in tqdm.tqdm(wells):\n",
    "    if os.stat(well).st_size > 1:\n",
    "        welldf = pandas.read_csv(well)\n",
    "        mean = meandf[meandf[\"Plate\"] == get_plate(well)].drop(\"Plate\", axis=1)\n",
    "        std = stddf[stddf[\"Plate\"] == get_plate(well)].drop(\"Plate\", axis=1)\n",
    "        assert len(mean.columns) == len(std.columns) and len(mean) == 1 and len(std) == 1\n",
    "        welldf = welldf.select(lambda c: c in mean.columns and c in std.columns, axis=1)\n",
    "        meanarr = mean.values\n",
    "        stdarr = std.values\n",
    "        wellarr = welldf.values\n",
    "        normalized = (wellarr - meanarr) / stdarr\n",
    "        normaldf = welldf\n",
    "        normaldf[:] = normalized\n",
    "        normaldf.to_csv(os.path.join(out_dir, get_id(well) + \".csv\"), index=False)"
   ]
  },
  {
   "cell_type": "code",
   "execution_count": null,
   "metadata": {
    "collapsed": true
   },
   "outputs": [],
   "source": []
  }
 ],
 "metadata": {
  "kernelspec": {
   "display_name": "Python 3",
   "language": "python",
   "name": "python3"
  },
  "language_info": {
   "codemirror_mode": {
    "name": "ipython",
    "version": 3
   },
   "file_extension": ".py",
   "mimetype": "text/x-python",
   "name": "python",
   "nbconvert_exporter": "python",
   "pygments_lexer": "ipython3",
   "version": "3.6.1"
  }
 },
 "nbformat": 4,
 "nbformat_minor": 2
}
