{
 "cells": [
  {
   "cell_type": "code",
   "execution_count": 1,
   "metadata": {
    "collapsed": true
   },
   "outputs": [],
   "source": [
    "# Credit for labeling code goes to Jonathan Roth - modified to work with this experiment\n",
    "%matplotlib inline"
   ]
  },
  {
   "cell_type": "code",
   "execution_count": 2,
   "metadata": {},
   "outputs": [
    {
     "ename": "RuntimeError",
     "evalue": "module compiled against API version 0xb but this version of numpy is 0xa",
     "output_type": "error",
     "traceback": [
      "\u001b[0;31m---------------------------------------------------------------------------\u001b[0m",
      "\u001b[0;31mRuntimeError\u001b[0m                              Traceback (most recent call last)",
      "\u001b[0;31mRuntimeError\u001b[0m: module compiled against API version 0xb but this version of numpy is 0xa"
     ]
    }
   ],
   "source": [
    "import glob\n",
    "import os\n",
    "import warnings\n",
    "\n",
    "import matplotlib\n",
    "import matplotlib.pyplot\n",
    "import numpy\n",
    "import skimage.io\n",
    "import skimage.morphology\n",
    "import skimage.filters\n",
    "import skimage.segmentation\n",
    "import tqdm"
   ]
  },
  {
   "cell_type": "code",
   "execution_count": 3,
   "metadata": {
    "collapsed": true
   },
   "outputs": [],
   "source": [
    "warnings.filterwarnings(\"ignore\")"
   ]
  },
  {
   "cell_type": "code",
   "execution_count": null,
   "metadata": {
    "collapsed": true
   },
   "outputs": [],
   "source": [
    "\n"
   ]
  },
  {
   "cell_type": "code",
   "execution_count": 4,
   "metadata": {
    "collapsed": true
   },
   "outputs": [],
   "source": [
    "matplotlib.rcParams[\"figure.figsize\"] = (12, 12)\n",
    "\n",
    "imgpath = \"/data1/santiago/BBBC021/images/\"\n",
    "predpath = \"/data1/santiago/BBBC021/cnn-segmentation/predictions/\"\n",
    "outpath = \"/data1/santiago/BBBC021/cnn-segmentation/labels/\""
   ]
  },
  {
   "cell_type": "code",
   "execution_count": null,
   "metadata": {
    "collapsed": true
   },
   "outputs": [],
   "source": []
  },
  {
   "cell_type": "code",
   "execution_count": null,
   "metadata": {
    "collapsed": true
   },
   "outputs": [],
   "source": []
  },
  {
   "cell_type": "code",
   "execution_count": 5,
   "metadata": {
    "collapsed": true
   },
   "outputs": [],
   "source": [
    "def prediction_pathname(image_pathname):\n",
    "    parent = image_pathname.split(\"/\")[-2]\n",
    "    \n",
    "    basename = os.path.basename(image_pathname)\n",
    "\n",
    "    name, _ = os.path.splitext(basename)\n",
    "\n",
    "    return os.path.join(predpath + parent, \"{}.npy\".format(name))"
   ]
  },
  {
   "cell_type": "code",
   "execution_count": null,
   "metadata": {
    "collapsed": true
   },
   "outputs": [],
   "source": []
  },
  {
   "cell_type": "code",
   "execution_count": 6,
   "metadata": {
    "collapsed": true
   },
   "outputs": [],
   "source": [
    "imgfiles = glob.glob(imgpath + \"*/*w1*.tif\")\n",
    "predfiles = glob.glob(predpath + \"*/*.npy\")\n",
    "assert(len(imgfiles) == len(predfiles))"
   ]
  },
  {
   "cell_type": "code",
   "execution_count": 7,
   "metadata": {
    "collapsed": true
   },
   "outputs": [],
   "source": [
    "def label_pathname(imgpath):\n",
    "    split = imgpath.split(\"/\")\n",
    "    d = split[-2]\n",
    "    path = outpath + d + \"/\"\n",
    "    if not os.path.exists(path) :\n",
    "        os.mkdir(path)\n",
    "    return os.path.join(outpath+split[-2],split[-1])"
   ]
  },
  {
   "cell_type": "code",
   "execution_count": 8,
   "metadata": {},
   "outputs": [
    {
     "name": "stderr",
     "output_type": "stream",
     "text": [
      "100%|██████████| 13200/13200 [2:17:14<00:00,  1.11it/s]  \n"
     ]
    }
   ],
   "source": [
    "for pathname in tqdm.tqdm(imgfiles):\n",
    "    image = skimage.io.imread(pathname)\n",
    "    prediction = numpy.load(prediction_pathname(pathname))[0,:,:,0]\n",
    "    \n",
    "    threshold = skimage.filters.threshold_li(prediction)\n",
    "    binary = skimage.segmentation.clear_border(prediction > threshold)\n",
    "    labels = skimage.morphology.label(binary, background=1)\n",
    "    \n",
    "    n_ccs = numpy.max(labels)\n",
    "    #print('Number of connected components:', n_ccs)\n",
    "    # buffer label image\n",
    "    filtered_labels = numpy.zeros_like(labels, dtype=numpy.uint16)\n",
    "    \n",
    "    \n",
    "    # relabel as we don't know what connected component the background has been given before\n",
    "    label_index = 1\n",
    "    \n",
    "    # start at 1 (0 is contours), end at number of connected components\n",
    "    for i in range(1, n_ccs + 1):\n",
    "        \n",
    "        # get mask of connected components\n",
    "        mask = labels == i\n",
    "\n",
    "        # get mean\n",
    "        mean = numpy.mean(numpy.take(image.flatten(),numpy.nonzero(mask.flatten())))\n",
    "\n",
    "        if(mean > 50):\n",
    "            filtered_labels[mask] = label_index\n",
    "            label_index = label_index + 1\n",
    "    filtered_labels[filtered_labels == 1] = 0\n",
    "    split = pathname.split(\"/\")\n",
    "    skimage.io.imsave(label_pathname(pathname), filtered_labels)\n",
    "    "
   ]
  },
  {
   "cell_type": "code",
   "execution_count": 9,
   "metadata": {},
   "outputs": [
    {
     "data": {
      "text/plain": [
       "'\\nimage = skimage.io.imread(imgfiles[0])\\n\\nprediction = numpy.load(prediction_pathname(imgfiles[0]))\\nskimage.io.imshow(prediction)\\n\\nthreshold = skimage.filters.threshold_li(prediction)\\nbinary = prediction >= threshold\\n\\nlabels = skimage.measure.label(binary, background=1)\\nregions = skimage.measure.regionprops(labels)\\nfor region in regions:\\n    print(region.area)\\n_, (a, b, c) = matplotlib.pyplot.subplots(nrows=1, ncols=3, figsize=(16, 4))\\n\\na.imshow(image, cmap=\"gray\")\\nb.imshow(binary, cmap=\"gray\")\\nc.imshow(labels)\\n'"
      ]
     },
     "execution_count": 9,
     "metadata": {},
     "output_type": "execute_result"
    }
   ],
   "source": [
    "'''\n",
    "image = skimage.io.imread(imgfiles[0])\n",
    "\n",
    "prediction = numpy.load(prediction_pathname(imgfiles[0]))\n",
    "skimage.io.imshow(prediction)\n",
    "\n",
    "threshold = skimage.filters.threshold_li(prediction)\n",
    "binary = prediction >= threshold\n",
    "\n",
    "labels = skimage.measure.label(binary, background=1)\n",
    "regions = skimage.measure.regionprops(labels)\n",
    "for region in regions:\n",
    "    print(region.area)\n",
    "_, (a, b, c) = matplotlib.pyplot.subplots(nrows=1, ncols=3, figsize=(16, 4))\n",
    "\n",
    "a.imshow(image, cmap=\"gray\")\n",
    "b.imshow(binary, cmap=\"gray\")\n",
    "c.imshow(labels)\n",
    "'''"
   ]
  },
  {
   "cell_type": "code",
   "execution_count": 10,
   "metadata": {
    "collapsed": true
   },
   "outputs": [],
   "source": [
    "#skimage.io.imshow(labels == 1)"
   ]
  },
  {
   "cell_type": "code",
   "execution_count": 11,
   "metadata": {
    "collapsed": true
   },
   "outputs": [],
   "source": [
    "#skimage.io.imshow(\"/storage/data/BBBC/BBBC021/labels/WWeek9_090907_B02_s1_w146B1CD84-EEA7-42A6-9B3F-4CC62BB8F179.png\")"
   ]
  },
  {
   "cell_type": "code",
   "execution_count": 13,
   "metadata": {},
   "outputs": [
    {
     "data": {
      "text/plain": [
       "<matplotlib.image.AxesImage at 0x7f81f2832160>"
      ]
     },
     "execution_count": 13,
     "metadata": {},
     "output_type": "execute_result"
    },
    {
     "data": {
      "image/png": "[encoded data removed]",
      "text/plain": [
       "<matplotlib.figure.Figure at 0x7f81f454e400>"
      ]
     },
     "metadata": {},
     "output_type": "display_data"
    }
   ],
   "source": [
    "skimage.io.imshow(\"/data1/santiago/BBBC021/cnn-segmentation/labels/Week5_28921/Week5_130707_B03_s1_w11E334B20-5A86-4F53-ABE4-36F74FB9402B.tif\")"
   ]
  },
  {
   "cell_type": "code",
   "execution_count": null,
   "metadata": {
    "collapsed": true
   },
   "outputs": [],
   "source": []
  }
 ],
 "metadata": {
  "kernelspec": {
   "display_name": "Python 3",
   "language": "python",
   "name": "python3"
  },
  "language_info": {
   "codemirror_mode": {
    "name": "ipython",
    "version": 3
   },
   "file_extension": ".py",
   "mimetype": "text/x-python",
   "name": "python",
   "nbconvert_exporter": "python",
   "pygments_lexer": "ipython3",
   "version": "3.6.1"
  }
 },
 "nbformat": 4,
 "nbformat_minor": 2
}
