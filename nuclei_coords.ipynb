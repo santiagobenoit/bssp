{
 "cells": [
  {
   "cell_type": "code",
   "execution_count": 1,
   "metadata": {
    "collapsed": true
   },
   "outputs": [],
   "source": [
    "import pandas\n",
    "import re\n",
    "import os\n",
    "import glob\n",
    "import tqdm"
   ]
  },
  {
   "cell_type": "code",
   "execution_count": 2,
   "metadata": {
    "collapsed": true
   },
   "outputs": [],
   "source": [
    "in_path = \"/data1/santiago/BBBC021/experiments/\"\n",
    "orig_path = os.path.join(in_path, \"original/\")\n",
    "cnn_path = os.path.join(in_path, \"cnn/\")\n",
    "orig_image_csvs = glob.glob(os.path.join(orig_path, \"Week*/Image.csv\"))\n",
    "orig_nuclei_csvs = glob.glob(os.path.join(orig_path, \"Week*/Nuclei.csv\"))\n",
    "cnn_image_csvs = glob.glob(os.path.join(cnn_path, \"Week*/Image.csv\"))\n",
    "cnn_nuclei_csvs = glob.glob(os.path.join(cnn_path, \"Week*/Nuclei.csv\"))\n",
    "out_path = \"/data1/santiago/BBBC021/coords/\"\n",
    "assert len(set([len(orig_image_csvs), len(orig_nuclei_csvs), len(cnn_image_csvs), len(cnn_nuclei_csvs)])) == 1"
   ]
  },
  {
   "cell_type": "code",
   "execution_count": 3,
   "metadata": {
    "collapsed": true
   },
   "outputs": [],
   "source": [
    "def nuclei_path(image_path):\n",
    "    return os.path.join(os.path.dirname(image_path), \"Nuclei.csv\")"
   ]
  },
  {
   "cell_type": "code",
   "execution_count": 4,
   "metadata": {
    "scrolled": false
   },
   "outputs": [
    {
     "name": "stderr",
     "output_type": "stream",
     "text": [
      "  1%|          | 18/3300 [00:02<06:55,  7.91it/s]"
     ]
    },
    {
     "name": "stdout",
     "output_type": "stream",
     "text": [
      "DataFrame is missing one or more sites: /data1/santiago/BBBC021/experiments/original/Week4_27861_F03/Nuclei.csv\n",
      "Cell counts:  0.0 0.0 0.0 0.0 \n",
      "\n"
     ]
    },
    {
     "name": "stderr",
     "output_type": "stream",
     "text": [
      "  4%|▎         | 120/3300 [00:13<05:12, 10.19it/s]"
     ]
    },
    {
     "name": "stdout",
     "output_type": "stream",
     "text": [
      "DataFrame is missing one or more sites: /data1/santiago/BBBC021/experiments/original/Week9_39206_E03/Nuclei.csv\n",
      "Cell counts:  0.0 0.0 0.0 3.0 \n",
      "\n"
     ]
    },
    {
     "name": "stderr",
     "output_type": "stream",
     "text": [
      "  4%|▍         | 128/3300 [00:14<05:04, 10.42it/s]"
     ]
    },
    {
     "name": "stdout",
     "output_type": "stream",
     "text": [
      "DataFrame is missing one or more sites: /data1/santiago/BBBC021/experiments/original/Week2_24361_G05/Nuclei.csv\n",
      "Cell counts:  3.0 6.0 3.0 0.0 \n",
      "\n"
     ]
    },
    {
     "name": "stderr",
     "output_type": "stream",
     "text": [
      "  6%|▌         | 192/3300 [00:21<05:23,  9.59it/s]"
     ]
    },
    {
     "name": "stdout",
     "output_type": "stream",
     "text": [
      "DataFrame is missing one or more sites: /data1/santiago/BBBC021/experiments/original/Week7_34641_G08/Nuclei.csv\n",
      "Cell counts:  0.0 0.0 296.0 443.0 \n",
      "\n"
     ]
    },
    {
     "name": "stderr",
     "output_type": "stream",
     "text": [
      "  9%|▉         | 299/3300 [00:31<04:23, 11.41it/s]"
     ]
    },
    {
     "name": "stdout",
     "output_type": "stream",
     "text": [
      "DataFrame is missing one or more sites: /data1/santiago/BBBC021/experiments/original/Week7_34641_E11/Nuclei.csv\n",
      "Cell counts:  0.0 0.0 331.0 0.0 \n",
      "\n"
     ]
    },
    {
     "name": "stderr",
     "output_type": "stream",
     "text": [
      " 10%|█         | 331/3300 [00:34<04:05, 12.08it/s]"
     ]
    },
    {
     "name": "stdout",
     "output_type": "stream",
     "text": [
      "DataFrame is missing one or more sites: /data1/santiago/BBBC021/experiments/original/Week7_34641_F10/Nuclei.csv\n",
      "Cell counts:  0.0 0.0 0.0 0.0 \n",
      "\n"
     ]
    },
    {
     "name": "stderr",
     "output_type": "stream",
     "text": [
      " 10%|█         | 343/3300 [00:35<05:14,  9.39it/s]"
     ]
    },
    {
     "name": "stdout",
     "output_type": "stream",
     "text": [
      "DataFrame is missing one or more sites: /data1/santiago/BBBC021/experiments/original/Week10_40111_D08/Nuclei.csv\n",
      "Cell counts:  0.0 455.0 411.0 420.0 \n",
      "\n"
     ]
    },
    {
     "name": "stderr",
     "output_type": "stream",
     "text": [
      " 11%|█         | 355/3300 [00:36<04:30, 10.88it/s]"
     ]
    },
    {
     "name": "stdout",
     "output_type": "stream",
     "text": [
      "DataFrame is missing one or more sites: /data1/santiago/BBBC021/experiments/original/Week7_34681_G06/Nuclei.csv\n",
      "Cell counts:  135.0 0.0 279.0 0.0 \n",
      "\n"
     ]
    },
    {
     "name": "stderr",
     "output_type": "stream",
     "text": [
      " 14%|█▎        | 446/3300 [00:44<05:24,  8.81it/s]"
     ]
    },
    {
     "name": "stdout",
     "output_type": "stream",
     "text": [
      "DataFrame is missing one or more sites: /data1/santiago/BBBC021/experiments/original/Week7_34681_F09/Nuclei.csv\n",
      "Cell counts:  270.0 0.0 432.0 0.0 \n",
      "\n"
     ]
    },
    {
     "name": "stderr",
     "output_type": "stream",
     "text": [
      " 15%|█▍        | 482/3300 [00:47<03:21, 13.96it/s]"
     ]
    },
    {
     "name": "stdout",
     "output_type": "stream",
     "text": [
      "DataFrame is missing one or more sites: /data1/santiago/BBBC021/experiments/original/Week8_38342_D04/Nuclei.csv\n",
      "Cell counts:  0.0 0.0 0.0 0.0 \n",
      "\n"
     ]
    },
    {
     "name": "stderr",
     "output_type": "stream",
     "text": [
      " 18%|█▊        | 578/3300 [00:55<04:18, 10.53it/s]"
     ]
    },
    {
     "name": "stdout",
     "output_type": "stream",
     "text": [
      "DataFrame is missing one or more sites: /data1/santiago/BBBC021/experiments/original/Week10_40111_E10/Nuclei.csv\n",
      "Cell counts:  0.0 0.0 396.0 393.0 \n",
      "\n"
     ]
    },
    {
     "name": "stderr",
     "output_type": "stream",
     "text": [
      " 19%|█▉        | 638/3300 [01:01<05:09,  8.61it/s]"
     ]
    },
    {
     "name": "stdout",
     "output_type": "stream",
     "text": [
      "DataFrame is missing one or more sites: /data1/santiago/BBBC021/experiments/original/Week7_34641_D02/Nuclei.csv\n",
      "Cell counts:  428.0 0.0 385.0 466.0 \n",
      "\n"
     ]
    },
    {
     "name": "stderr",
     "output_type": "stream",
     "text": [
      " 21%|██        | 682/3300 [01:05<03:35, 12.14it/s]"
     ]
    },
    {
     "name": "stdout",
     "output_type": "stream",
     "text": [
      "DataFrame is missing one or more sites: /data1/santiago/BBBC021/experiments/original/Week10_40119_C03/Nuclei.csv\n",
      "Cell counts:  0.0 7.0 4.0 0.0 \n",
      "\n"
     ]
    },
    {
     "name": "stderr",
     "output_type": "stream",
     "text": [
      "\r",
      " 21%|██        | 684/3300 [01:05<03:26, 12.66it/s]"
     ]
    },
    {
     "name": "stdout",
     "output_type": "stream",
     "text": [
      "DataFrame is missing one or more sites: /data1/santiago/BBBC021/experiments/original/Week7_34681_D02/Nuclei.csv\n",
      "Cell counts:  0.0 0.0 0.0 0.0 \n",
      "\n"
     ]
    },
    {
     "name": "stderr",
     "output_type": "stream",
     "text": [
      " 21%|██        | 690/3300 [01:06<03:45, 11.59it/s]"
     ]
    },
    {
     "name": "stdout",
     "output_type": "stream",
     "text": [
      "DataFrame is missing one or more sites: /data1/santiago/BBBC021/experiments/original/Week7_34681_E11/Nuclei.csv\n",
      "Cell counts:  0.0 0.0 0.0 0.0 \n",
      "\n"
     ]
    },
    {
     "name": "stderr",
     "output_type": "stream",
     "text": [
      " 22%|██▏       | 738/3300 [01:09<03:00, 14.23it/s]"
     ]
    },
    {
     "name": "stdout",
     "output_type": "stream",
     "text": [
      "DataFrame is missing one or more sites: /data1/santiago/BBBC021/experiments/original/Week7_34661_E06/Nuclei.csv\n",
      "Cell counts:  500.0 0.0 350.0 440.0 \n",
      "\n"
     ]
    },
    {
     "name": "stderr",
     "output_type": "stream",
     "text": [
      " 26%|██▌       | 849/3300 [01:19<03:27, 11.80it/s]"
     ]
    },
    {
     "name": "stdout",
     "output_type": "stream",
     "text": [
      "DataFrame is missing one or more sites: /data1/santiago/BBBC021/experiments/original/Week7_34661_E10/Nuclei.csv\n",
      "Cell counts:  0.0 0.0 295.0 498.0 \n",
      "\n"
     ]
    },
    {
     "name": "stderr",
     "output_type": "stream",
     "text": [
      " 27%|██▋       | 888/3300 [01:22<04:08,  9.72it/s]"
     ]
    },
    {
     "name": "stdout",
     "output_type": "stream",
     "text": [
      "DataFrame is missing one or more sites: /data1/santiago/BBBC021/experiments/original/Week7_34681_F07/Nuclei.csv\n",
      "Cell counts:  485.0 499.0 468.0 0.0 \n",
      "\n"
     ]
    },
    {
     "name": "stderr",
     "output_type": "stream",
     "text": [
      " 27%|██▋       | 896/3300 [01:23<03:39, 10.96it/s]"
     ]
    },
    {
     "name": "stdout",
     "output_type": "stream",
     "text": [
      "DataFrame is missing one or more sites: /data1/santiago/BBBC021/experiments/original/Week9_39222_C02/Nuclei.csv\n",
      "Cell counts:  91.0 0.0 127.0 69.0 \n",
      "\n"
     ]
    },
    {
     "name": "stderr",
     "output_type": "stream",
     "text": [
      " 28%|██▊       | 934/3300 [01:27<03:18, 11.91it/s]"
     ]
    },
    {
     "name": "stdout",
     "output_type": "stream",
     "text": [
      "DataFrame is missing one or more sites: /data1/santiago/BBBC021/experiments/original/Week7_34641_G09/Nuclei.csv\n",
      "Cell counts:  250.0 235.0 0.0 474.0 \n",
      "\n"
     ]
    },
    {
     "name": "stderr",
     "output_type": "stream",
     "text": [
      " 29%|██▉       | 965/3300 [01:30<03:57,  9.84it/s]"
     ]
    },
    {
     "name": "stdout",
     "output_type": "stream",
     "text": [
      "DataFrame is missing one or more sites: /data1/santiago/BBBC021/experiments/original/Week7_34641_E09/Nuclei.csv\n",
      "Cell counts:  0.0 453.0 157.0 424.0 \n",
      "\n"
     ]
    },
    {
     "name": "stderr",
     "output_type": "stream",
     "text": [
      " 30%|███       | 995/3300 [01:32<03:12, 11.97it/s]"
     ]
    },
    {
     "name": "stdout",
     "output_type": "stream",
     "text": [
      "DataFrame is missing one or more sites: /data1/santiago/BBBC021/experiments/original/Week7_34381_E02/Nuclei.csv\n",
      "Cell counts:  9.0 0.0 7.0 37.0 \n",
      "\n"
     ]
    },
    {
     "name": "stderr",
     "output_type": "stream",
     "text": [
      " 31%|███       | 1014/3300 [01:34<03:36, 10.56it/s]"
     ]
    },
    {
     "name": "stdout",
     "output_type": "stream",
     "text": [
      "DataFrame is missing one or more sites: /data1/santiago/BBBC021/experiments/original/Week7_34641_E07/Nuclei.csv\n",
      "Cell counts:  0.0 432.0 467.0 400.0 \n",
      "\n"
     ]
    },
    {
     "name": "stderr",
     "output_type": "stream",
     "text": [
      " 31%|███       | 1018/3300 [01:35<03:14, 11.73it/s]"
     ]
    },
    {
     "name": "stdout",
     "output_type": "stream",
     "text": [
      "DataFrame is missing one or more sites: /data1/santiago/BBBC021/experiments/original/Week8_38203_F03/Nuclei.csv\n",
      "Cell counts:  0.0 0.0 0.0 0.0 \n",
      "\n"
     ]
    },
    {
     "name": "stderr",
     "output_type": "stream",
     "text": [
      " 32%|███▏      | 1052/3300 [01:38<03:33, 10.51it/s]"
     ]
    },
    {
     "name": "stdout",
     "output_type": "stream",
     "text": [
      "DataFrame is missing one or more sites: /data1/santiago/BBBC021/experiments/original/Week7_34661_C02/Nuclei.csv\n",
      "Cell counts:  0.0 0.0 0.0 0.0 \n",
      "\n"
     ]
    },
    {
     "name": "stderr",
     "output_type": "stream",
     "text": [
      " 33%|███▎      | 1104/3300 [01:42<03:21, 10.92it/s]"
     ]
    },
    {
     "name": "stdout",
     "output_type": "stream",
     "text": [
      "DataFrame is missing one or more sites: /data1/santiago/BBBC021/experiments/original/Week7_34641_B02/Nuclei.csv\n",
      "Cell counts:  494.0 0.0 403.0 0.0 \n",
      "\n"
     ]
    },
    {
     "name": "stderr",
     "output_type": "stream",
     "text": [
      " 35%|███▍      | 1145/3300 [01:46<02:46, 12.98it/s]"
     ]
    },
    {
     "name": "stdout",
     "output_type": "stream",
     "text": [
      "DataFrame is missing one or more sites: /data1/santiago/BBBC021/experiments/original/Week6_31641_E05/Nuclei.csv\n",
      "Cell counts:  79.0 103.0 0.0 61.0 \n",
      "\n"
     ]
    },
    {
     "name": "stderr",
     "output_type": "stream",
     "text": [
      " 36%|███▌      | 1179/3300 [01:50<02:50, 12.45it/s]"
     ]
    },
    {
     "name": "stdout",
     "output_type": "stream",
     "text": [
      "DataFrame is missing one or more sites: /data1/santiago/BBBC021/experiments/original/Week7_34341_F09/Nuclei.csv\n",
      "Cell counts:  0.0 1.0 4.0 9.0 \n",
      "\n"
     ]
    },
    {
     "name": "stderr",
     "output_type": "stream",
     "text": [
      " 36%|███▌      | 1183/3300 [01:50<02:47, 12.65it/s]"
     ]
    },
    {
     "name": "stdout",
     "output_type": "stream",
     "text": [
      "DataFrame is missing one or more sites: /data1/santiago/BBBC021/experiments/original/Week7_34681_G07/Nuclei.csv\n",
      "Cell counts:  388.0 0.0 438.0 0.0 \n",
      "\n"
     ]
    },
    {
     "name": "stderr",
     "output_type": "stream",
     "text": [
      " 37%|███▋      | 1211/3300 [01:52<02:49, 12.30it/s]"
     ]
    },
    {
     "name": "stdout",
     "output_type": "stream",
     "text": [
      "DataFrame is missing one or more sites: /data1/santiago/BBBC021/experiments/original/Week10_40111_F08/Nuclei.csv\n",
      "Cell counts:  0.0 0.0 0.0 0.0 \n",
      "\n"
     ]
    },
    {
     "name": "stderr",
     "output_type": "stream",
     "text": [
      " 37%|███▋      | 1215/3300 [01:53<02:55, 11.91it/s]"
     ]
    },
    {
     "name": "stdout",
     "output_type": "stream",
     "text": [
      "DataFrame is missing one or more sites: /data1/santiago/BBBC021/experiments/original/Week2_24361_F03/Nuclei.csv\n",
      "Cell counts:  9.0 1.0 0.0 6.0 \n",
      "\n"
     ]
    },
    {
     "name": "stderr",
     "output_type": "stream",
     "text": [
      " 37%|███▋      | 1221/3300 [01:53<03:47,  9.12it/s]"
     ]
    },
    {
     "name": "stdout",
     "output_type": "stream",
     "text": [
      "DataFrame is missing one or more sites: /data1/santiago/BBBC021/experiments/original/Week7_34681_F10/Nuclei.csv\n",
      "Cell counts:  0.0 0.0 457.0 0.0 \n",
      "\n"
     ]
    },
    {
     "name": "stderr",
     "output_type": "stream",
     "text": [
      " 37%|███▋      | 1234/3300 [01:55<03:01, 11.38it/s]"
     ]
    },
    {
     "name": "stdout",
     "output_type": "stream",
     "text": [
      "DataFrame is missing one or more sites: /data1/santiago/BBBC021/experiments/original/Week7_34681_F11/Nuclei.csv\n",
      "Cell counts:  499.0 0.0 0.0 0.0 \n",
      "\n"
     ]
    },
    {
     "name": "stderr",
     "output_type": "stream",
     "text": [
      " 38%|███▊      | 1266/3300 [01:57<03:14, 10.47it/s]"
     ]
    },
    {
     "name": "stdout",
     "output_type": "stream",
     "text": [
      "DataFrame is missing one or more sites: /data1/santiago/BBBC021/experiments/original/Week9_39301_F03/Nuclei.csv\n",
      "Cell counts:  0.0 0.0 0.0 0.0 \n",
      "\n"
     ]
    },
    {
     "name": "stderr",
     "output_type": "stream",
     "text": [
      " 40%|████      | 1335/3300 [02:04<02:47, 11.74it/s]"
     ]
    },
    {
     "name": "stdout",
     "output_type": "stream",
     "text": [
      "DataFrame is missing one or more sites: /data1/santiago/BBBC021/experiments/original/Week8_38241_F03/Nuclei.csv\n",
      "Cell counts:  0.0 0.0 0.0 0.0 \n",
      "\n"
     ]
    },
    {
     "name": "stderr",
     "output_type": "stream",
     "text": [
      " 42%|████▏     | 1397/3300 [02:09<02:39, 11.97it/s]"
     ]
    },
    {
     "name": "stdout",
     "output_type": "stream",
     "text": [
      "DataFrame is missing one or more sites: /data1/santiago/BBBC021/experiments/original/Week7_34641_C02/Nuclei.csv\n",
      "Cell counts:  0.0 0.0 393.0 0.0 \n",
      "\n"
     ]
    },
    {
     "name": "stderr",
     "output_type": "stream",
     "text": [
      " 43%|████▎     | 1405/3300 [02:10<02:41, 11.72it/s]"
     ]
    },
    {
     "name": "stdout",
     "output_type": "stream",
     "text": [
      "DataFrame is missing one or more sites: /data1/santiago/BBBC021/experiments/original/Week7_34681_E09/Nuclei.csv\n",
      "Cell counts:  387.0 0.0 354.0 0.0 \n",
      "\n"
     ]
    },
    {
     "name": "stderr",
     "output_type": "stream",
     "text": [
      " 43%|████▎     | 1411/3300 [02:10<02:34, 12.20it/s]"
     ]
    },
    {
     "name": "stdout",
     "output_type": "stream",
     "text": [
      "DataFrame is missing one or more sites: /data1/santiago/BBBC021/experiments/original/Week2_24381_F02/Nuclei.csv\n",
      "Cell counts:  25.0 26.0 7.0 0.0 \n",
      "\n"
     ]
    },
    {
     "name": "stderr",
     "output_type": "stream",
     "text": [
      " 45%|████▍     | 1473/3300 [02:16<03:07,  9.73it/s]"
     ]
    },
    {
     "name": "stdout",
     "output_type": "stream",
     "text": [
      "DataFrame is missing one or more sites: /data1/santiago/BBBC021/experiments/original/Week10_40119_F09/Nuclei.csv\n",
      "Cell counts:  0.0 0.0 0.0 0.0 \n",
      "\n",
      "DataFrame is missing one or more sites: /data1/santiago/BBBC021/experiments/original/Week3_25461_C05/Nuclei.csv\n",
      "Cell counts:  1.0 0.0 1.0 0.0 \n",
      "\n"
     ]
    },
    {
     "name": "stderr",
     "output_type": "stream",
     "text": [
      " 45%|████▌     | 1498/3300 [02:19<02:42, 11.06it/s]"
     ]
    },
    {
     "name": "stdout",
     "output_type": "stream",
     "text": [
      "DataFrame is missing one or more sites: /data1/santiago/BBBC021/experiments/original/Week2_24361_C04/Nuclei.csv\n",
      "Cell counts:  0.0 1.0 0.0 2.0 \n",
      "\n"
     ]
    },
    {
     "name": "stderr",
     "output_type": "stream",
     "text": [
      " 47%|████▋     | 1548/3300 [02:23<01:57, 14.87it/s]"
     ]
    },
    {
     "name": "stdout",
     "output_type": "stream",
     "text": [
      "DataFrame is missing one or more sites: /data1/santiago/BBBC021/experiments/original/Week4_27861_F04/Nuclei.csv\n",
      "Cell counts:  2.0 1.0 0.0 0.0 \n",
      "\n"
     ]
    },
    {
     "name": "stderr",
     "output_type": "stream",
     "text": [
      " 48%|████▊     | 1568/3300 [02:25<03:23,  8.52it/s]"
     ]
    },
    {
     "name": "stdout",
     "output_type": "stream",
     "text": [
      "DataFrame is missing one or more sites: /data1/santiago/BBBC021/experiments/original/Week7_34661_F10/Nuclei.csv\n",
      "Cell counts:  494.0 0.0 305.0 492.0 \n",
      "\n"
     ]
    },
    {
     "name": "stderr",
     "output_type": "stream",
     "text": [
      " 48%|████▊     | 1591/3300 [02:27<02:37, 10.87it/s]"
     ]
    },
    {
     "name": "stdout",
     "output_type": "stream",
     "text": [
      "DataFrame is missing one or more sites: /data1/santiago/BBBC021/experiments/original/Week4_27801_F04/Nuclei.csv\n",
      "Cell counts:  0.0 2.0 1.0 0.0 \n",
      "\n"
     ]
    },
    {
     "name": "stderr",
     "output_type": "stream",
     "text": [
      " 48%|████▊     | 1600/3300 [02:28<02:41, 10.54it/s]"
     ]
    },
    {
     "name": "stdout",
     "output_type": "stream",
     "text": [
      "DataFrame is missing one or more sites: /data1/santiago/BBBC021/experiments/original/Week7_34661_E11/Nuclei.csv\n",
      "Cell counts:  328.0 0.0 201.0 0.0 \n",
      "\n"
     ]
    },
    {
     "name": "stderr",
     "output_type": "stream",
     "text": [
      " 49%|████▊     | 1604/3300 [02:29<02:28, 11.40it/s]"
     ]
    },
    {
     "name": "stdout",
     "output_type": "stream",
     "text": [
      "DataFrame is missing one or more sites: /data1/santiago/BBBC021/experiments/original/Week10_40111_F05/Nuclei.csv\n",
      "Cell counts:  0.0 0.0 0.0 435.0 \n",
      "\n"
     ]
    },
    {
     "name": "stderr",
     "output_type": "stream",
     "text": [
      " 53%|█████▎    | 1750/3300 [02:42<02:17, 11.24it/s]"
     ]
    },
    {
     "name": "stdout",
     "output_type": "stream",
     "text": [
      "DataFrame is missing one or more sites: /data1/santiago/BBBC021/experiments/original/Week3_25461_C04/Nuclei.csv\n",
      "Cell counts:  0.0 2.0 4.0 39.0 \n",
      "\n"
     ]
    },
    {
     "name": "stderr",
     "output_type": "stream",
     "text": [
      " 54%|█████▍    | 1780/3300 [02:45<01:54, 13.29it/s]"
     ]
    },
    {
     "name": "stdout",
     "output_type": "stream",
     "text": [
      "DataFrame is missing one or more sites: /data1/santiago/BBBC021/experiments/original/Week9_39206_G03/Nuclei.csv\n",
      "Cell counts:  52.0 0.0 41.0 6.0 \n",
      "\n"
     ]
    },
    {
     "name": "stderr",
     "output_type": "stream",
     "text": [
      " 55%|█████▌    | 1830/3300 [02:50<02:12, 11.12it/s]"
     ]
    },
    {
     "name": "stdout",
     "output_type": "stream",
     "text": [
      "DataFrame is missing one or more sites: /data1/santiago/BBBC021/experiments/original/Week7_34681_C10/Nuclei.csv\n",
      "Cell counts:  396.0 0.0 405.0 489.0 \n",
      "\n"
     ]
    },
    {
     "name": "stderr",
     "output_type": "stream",
     "text": [
      " 56%|█████▋    | 1862/3300 [02:53<01:45, 13.65it/s]"
     ]
    },
    {
     "name": "stdout",
     "output_type": "stream",
     "text": [
      "DataFrame is missing one or more sites: /data1/santiago/BBBC021/experiments/original/Week6_32161_E06/Nuclei.csv\n",
      "Cell counts:  0.0 46.0 14.0 67.0 \n",
      "\n"
     ]
    },
    {
     "name": "stderr",
     "output_type": "stream",
     "text": [
      " 57%|█████▋    | 1866/3300 [02:53<01:51, 12.89it/s]"
     ]
    },
    {
     "name": "stdout",
     "output_type": "stream",
     "text": [
      "DataFrame is missing one or more sites: /data1/santiago/BBBC021/experiments/original/Week9_39206_F05/Nuclei.csv\n",
      "Cell counts:  88.0 0.0 142.0 83.0 \n",
      "\n"
     ]
    },
    {
     "name": "stderr",
     "output_type": "stream",
     "text": [
      " 58%|█████▊    | 1914/3300 [02:56<01:43, 13.38it/s]"
     ]
    },
    {
     "name": "stdout",
     "output_type": "stream",
     "text": [
      "DataFrame is missing one or more sites: /data1/santiago/BBBC021/experiments/original/Week7_34381_G06/Nuclei.csv\n",
      "Cell counts:  74.0 224.0 125.0 0.0 \n",
      "\n"
     ]
    },
    {
     "name": "stderr",
     "output_type": "stream",
     "text": [
      " 61%|██████    | 1997/3300 [03:04<01:43, 12.56it/s]"
     ]
    },
    {
     "name": "stdout",
     "output_type": "stream",
     "text": [
      "DataFrame is missing one or more sites: /data1/santiago/BBBC021/experiments/original/Week4_27821_F03/Nuclei.csv\n",
      "Cell counts:  5.0 3.0 0.0 3.0 \n",
      "\n"
     ]
    },
    {
     "name": "stderr",
     "output_type": "stream",
     "text": [
      " 61%|██████    | 2009/3300 [03:05<01:47, 12.06it/s]"
     ]
    },
    {
     "name": "stdout",
     "output_type": "stream",
     "text": [
      "DataFrame is missing one or more sites: /data1/santiago/BBBC021/experiments/original/Week7_34381_G02/Nuclei.csv\n",
      "Cell counts:  60.0 0.0 0.0 51.0 \n",
      "\n"
     ]
    },
    {
     "name": "stderr",
     "output_type": "stream",
     "text": [
      " 61%|██████▏   | 2024/3300 [03:06<02:12,  9.66it/s]"
     ]
    },
    {
     "name": "stdout",
     "output_type": "stream",
     "text": [
      "DataFrame is missing one or more sites: /data1/santiago/BBBC021/experiments/original/Week8_38342_D05/Nuclei.csv\n",
      "Cell counts:  0.0 0.0 2.0 2.0 \n",
      "\n"
     ]
    },
    {
     "name": "stderr",
     "output_type": "stream",
     "text": [
      " 62%|██████▏   | 2032/3300 [03:07<02:17,  9.21it/s]"
     ]
    },
    {
     "name": "stdout",
     "output_type": "stream",
     "text": [
      "DataFrame is missing one or more sites: /data1/santiago/BBBC021/experiments/original/Week7_34681_F06/Nuclei.csv\n",
      "Cell counts:  198.0 481.0 416.0 0.0 \n",
      "\n"
     ]
    },
    {
     "name": "stderr",
     "output_type": "stream",
     "text": [
      " 62%|██████▏   | 2051/3300 [03:09<01:38, 12.68it/s]"
     ]
    },
    {
     "name": "stdout",
     "output_type": "stream",
     "text": [
      "DataFrame is missing one or more sites: /data1/santiago/BBBC021/experiments/original/Week7_34381_C06/Nuclei.csv\n",
      "Cell counts:  79.0 0.0 67.0 140.0 \n",
      "\n"
     ]
    },
    {
     "name": "stderr",
     "output_type": "stream",
     "text": [
      " 64%|██████▍   | 2107/3300 [03:14<01:33, 12.76it/s]"
     ]
    },
    {
     "name": "stdout",
     "output_type": "stream",
     "text": [
      "DataFrame is missing one or more sites: /data1/santiago/BBBC021/experiments/original/Week8_38341_D04/Nuclei.csv\n",
      "Cell counts:  2.0 4.0 1.0 0.0 \n",
      "\n"
     ]
    },
    {
     "name": "stderr",
     "output_type": "stream",
     "text": [
      " 64%|██████▍   | 2125/3300 [03:15<01:36, 12.22it/s]"
     ]
    },
    {
     "name": "stdout",
     "output_type": "stream",
     "text": [
      "DataFrame is missing one or more sites: /data1/santiago/BBBC021/experiments/original/Week7_34661_F06/Nuclei.csv\n",
      "Cell counts:  233.0 0.0 32.0 358.0 \n",
      "\n",
      "DataFrame is missing one or more sites: /data1/santiago/BBBC021/experiments/original/Week3_25461_E04/Nuclei.csv\n",
      "Cell counts:  0.0 70.0 1.0 18.0 \n",
      "\n"
     ]
    },
    {
     "name": "stderr",
     "output_type": "stream",
     "text": [
      " 67%|██████▋   | 2222/3300 [03:24<01:27, 12.31it/s]"
     ]
    },
    {
     "name": "stdout",
     "output_type": "stream",
     "text": [
      "DataFrame is missing one or more sites: /data1/santiago/BBBC021/experiments/original/Week7_34681_G10/Nuclei.csv\n",
      "Cell counts:  435.0 0.0 0.0 0.0 \n",
      "\n"
     ]
    },
    {
     "name": "stderr",
     "output_type": "stream",
     "text": [
      " 69%|██████▉   | 2281/3300 [03:30<01:49,  9.29it/s]"
     ]
    },
    {
     "name": "stdout",
     "output_type": "stream",
     "text": [
      "DataFrame is missing one or more sites: /data1/santiago/BBBC021/experiments/original/Week7_34641_G06/Nuclei.csv\n",
      "Cell counts:  0.0 0.0 458.0 0.0 \n",
      "\n"
     ]
    },
    {
     "name": "stderr",
     "output_type": "stream",
     "text": [
      " 70%|███████   | 2312/3300 [03:33<01:37, 10.18it/s]"
     ]
    },
    {
     "name": "stdout",
     "output_type": "stream",
     "text": [
      "DataFrame is missing one or more sites: /data1/santiago/BBBC021/experiments/original/Week7_34641_F11/Nuclei.csv\n",
      "Cell counts:  0.0 0.0 0.0 0.0 \n",
      "\n",
      "DataFrame is missing one or more sites: /data1/santiago/BBBC021/experiments/original/Week8_38342_D03/Nuclei.csv\n",
      "Cell counts:  0.0 0.0 1.0 0.0 \n",
      "\n"
     ]
    },
    {
     "name": "stderr",
     "output_type": "stream",
     "text": [
      " 71%|███████   | 2350/3300 [03:36<01:03, 14.99it/s]"
     ]
    },
    {
     "name": "stdout",
     "output_type": "stream",
     "text": [
      "DataFrame is missing one or more sites: /data1/santiago/BBBC021/experiments/original/Week7_34661_B02/Nuclei.csv\n",
      "Cell counts:  0.0 0.0 448.0 0.0 \n",
      "\n"
     ]
    },
    {
     "name": "stderr",
     "output_type": "stream",
     "text": [
      " 73%|███████▎  | 2402/3300 [03:41<01:28, 10.12it/s]"
     ]
    },
    {
     "name": "stdout",
     "output_type": "stream",
     "text": [
      "DataFrame is missing one or more sites: /data1/santiago/BBBC021/experiments/original/Week7_34661_D02/Nuclei.csv\n",
      "Cell counts:  0.0 0.0 0.0 0.0 \n",
      "\n"
     ]
    },
    {
     "name": "stderr",
     "output_type": "stream",
     "text": [
      " 74%|███████▍  | 2435/3300 [03:44<01:16, 11.26it/s]"
     ]
    },
    {
     "name": "stdout",
     "output_type": "stream",
     "text": [
      "DataFrame is missing one or more sites: /data1/santiago/BBBC021/experiments/original/Week10_40111_D02/Nuclei.csv\n",
      "Cell counts:  497.0 0.0 0.0 0.0 \n",
      "\n"
     ]
    },
    {
     "name": "stderr",
     "output_type": "stream",
     "text": [
      " 74%|███████▍  | 2445/3300 [03:45<01:13, 11.67it/s]"
     ]
    },
    {
     "name": "stdout",
     "output_type": "stream",
     "text": [
      "DataFrame is missing one or more sites: /data1/santiago/BBBC021/experiments/original/Week9_39301_G03/Nuclei.csv\n",
      "Cell counts:  201.0 71.0 109.0 0.0 \n",
      "\n"
     ]
    },
    {
     "name": "stderr",
     "output_type": "stream",
     "text": [
      " 74%|███████▍  | 2457/3300 [03:46<01:16, 10.98it/s]"
     ]
    },
    {
     "name": "stdout",
     "output_type": "stream",
     "text": [
      "DataFrame is missing one or more sites: /data1/santiago/BBBC021/experiments/original/Week7_34681_E08/Nuclei.csv\n",
      "Cell counts:  193.0 29.0 219.0 0.0 \n",
      "\n"
     ]
    },
    {
     "name": "stderr",
     "output_type": "stream",
     "text": [
      " 75%|███████▌  | 2484/3300 [03:48<01:01, 13.33it/s]"
     ]
    },
    {
     "name": "stdout",
     "output_type": "stream",
     "text": [
      "DataFrame is missing one or more sites: /data1/santiago/BBBC021/experiments/original/Week4_27801_F03/Nuclei.csv\n",
      "Cell counts:  1.0 0.0 2.0 1.0 \n",
      "\n",
      "DataFrame is missing one or more sites: /data1/santiago/BBBC021/experiments/original/Week7_34641_E08/Nuclei.csv\n",
      "Cell counts:  0.0 0.0 66.0 413.0 \n",
      "\n"
     ]
    },
    {
     "name": "stderr",
     "output_type": "stream",
     "text": [
      " 76%|███████▌  | 2503/3300 [03:50<01:16, 10.42it/s]"
     ]
    },
    {
     "name": "stdout",
     "output_type": "stream",
     "text": [
      "DataFrame is missing one or more sites: /data1/santiago/BBBC021/experiments/original/Week7_34661_G09/Nuclei.csv\n",
      "Cell counts:  267.0 318.0 482.0 0.0 \n",
      "\n"
     ]
    },
    {
     "name": "stderr",
     "output_type": "stream",
     "text": [
      " 77%|███████▋  | 2543/3300 [03:55<01:30,  8.39it/s]"
     ]
    },
    {
     "name": "stdout",
     "output_type": "stream",
     "text": [
      "DataFrame is missing one or more sites: /data1/santiago/BBBC021/experiments/original/Week5_28901_E07/Nuclei.csv\n",
      "Cell counts:  10.0 80.0 0.0 0.0 \n",
      "\n"
     ]
    },
    {
     "name": "stderr",
     "output_type": "stream",
     "text": [
      " 77%|███████▋  | 2557/3300 [03:56<01:16,  9.69it/s]"
     ]
    },
    {
     "name": "stdout",
     "output_type": "stream",
     "text": [
      "DataFrame is missing one or more sites: /data1/santiago/BBBC021/experiments/original/Week7_34641_E10/Nuclei.csv\n",
      "Cell counts:  0.0 0.0 492.0 0.0 \n",
      "\n"
     ]
    },
    {
     "name": "stderr",
     "output_type": "stream",
     "text": [
      " 78%|███████▊  | 2589/3300 [03:59<00:53, 13.24it/s]"
     ]
    },
    {
     "name": "stdout",
     "output_type": "stream",
     "text": [
      "DataFrame is missing one or more sites: /data1/santiago/BBBC021/experiments/original/Week6_32161_C11/Nuclei.csv\n",
      "Cell counts:  2.0 11.0 0.0 16.0 \n",
      "\n"
     ]
    },
    {
     "name": "stderr",
     "output_type": "stream",
     "text": [
      " 80%|████████  | 2650/3300 [04:04<00:51, 12.67it/s]"
     ]
    },
    {
     "name": "stdout",
     "output_type": "stream",
     "text": [
      "DataFrame is missing one or more sites: /data1/santiago/BBBC021/experiments/original/Week8_38221_F03/Nuclei.csv\n",
      "Cell counts:  0.0 0.0 0.0 0.0 \n",
      "\n"
     ]
    },
    {
     "name": "stderr",
     "output_type": "stream",
     "text": [
      " 81%|████████  | 2673/3300 [04:06<01:07,  9.27it/s]"
     ]
    },
    {
     "name": "stdout",
     "output_type": "stream",
     "text": [
      "DataFrame is missing one or more sites: /data1/santiago/BBBC021/experiments/original/Week7_34681_E07/Nuclei.csv\n",
      "Cell counts:  489.0 0.0 455.0 0.0 \n",
      "\n"
     ]
    },
    {
     "name": "stderr",
     "output_type": "stream",
     "text": [
      " 82%|████████▏ | 2718/3300 [04:10<00:49, 11.70it/s]"
     ]
    },
    {
     "name": "stdout",
     "output_type": "stream",
     "text": [
      "DataFrame is missing one or more sites: /data1/santiago/BBBC021/experiments/original/Week7_34661_F11/Nuclei.csv\n",
      "Cell counts:  350.0 0.0 345.0 0.0 \n",
      "\n",
      "DataFrame is missing one or more sites: /data1/santiago/BBBC021/experiments/original/Week7_34681_C02/Nuclei.csv\n",
      "Cell counts:  0.0 0.0 0.0 0.0 \n",
      "\n"
     ]
    },
    {
     "name": "stderr",
     "output_type": "stream",
     "text": [
      " 83%|████████▎ | 2730/3300 [04:11<00:41, 13.60it/s]"
     ]
    },
    {
     "name": "stdout",
     "output_type": "stream",
     "text": [
      "DataFrame is missing one or more sites: /data1/santiago/BBBC021/experiments/original/Week7_34381_F02/Nuclei.csv\n",
      "Cell counts:  0.0 69.0 10.0 78.0 \n",
      "\n"
     ]
    },
    {
     "name": "stderr",
     "output_type": "stream",
     "text": [
      " 83%|████████▎ | 2739/3300 [04:11<00:36, 15.37it/s]"
     ]
    },
    {
     "name": "stdout",
     "output_type": "stream",
     "text": [
      "DataFrame is missing one or more sites: /data1/santiago/BBBC021/experiments/original/Week9_39282_F03/Nuclei.csv\n",
      "Cell counts:  5.0 2.0 0.0 0.0 \n",
      "\n"
     ]
    },
    {
     "name": "stderr",
     "output_type": "stream",
     "text": [
      " 84%|████████▎ | 2756/3300 [04:12<00:40, 13.48it/s]"
     ]
    },
    {
     "name": "stdout",
     "output_type": "stream",
     "text": [
      "DataFrame is missing one or more sites: /data1/santiago/BBBC021/experiments/original/Week7_34681_G08/Nuclei.csv\n",
      "Cell counts:  0.0 0.0 0.0 0.0 \n",
      "\n"
     ]
    },
    {
     "name": "stderr",
     "output_type": "stream",
     "text": [
      " 84%|████████▎ | 2760/3300 [04:13<00:47, 11.37it/s]"
     ]
    },
    {
     "name": "stdout",
     "output_type": "stream",
     "text": [
      "DataFrame is missing one or more sites: /data1/santiago/BBBC021/experiments/original/Week7_34641_F09/Nuclei.csv\n",
      "Cell counts:  403.0 0.0 389.0 440.0 \n",
      "\n"
     ]
    },
    {
     "name": "stderr",
     "output_type": "stream",
     "text": [
      "\r",
      " 84%|████████▎ | 2763/3300 [04:13<00:43, 12.41it/s]"
     ]
    },
    {
     "name": "stdout",
     "output_type": "stream",
     "text": [
      "DataFrame is missing one or more sites: /data1/santiago/BBBC021/experiments/original/Week9_39283_F03/Nuclei.csv\n",
      "Cell counts:  0.0 10.0 6.0 0.0 \n",
      "\n"
     ]
    },
    {
     "name": "stderr",
     "output_type": "stream",
     "text": [
      " 84%|████████▍ | 2767/3300 [04:13<00:44, 12.01it/s]"
     ]
    },
    {
     "name": "stdout",
     "output_type": "stream",
     "text": [
      "DataFrame is missing one or more sites: /data1/santiago/BBBC021/experiments/original/Week10_40111_C03/Nuclei.csv\n",
      "Cell counts:  0.0 0.0 0.0 0.0 \n",
      "\n"
     ]
    },
    {
     "name": "stderr",
     "output_type": "stream",
     "text": [
      " 84%|████████▍ | 2776/3300 [04:14<00:40, 12.91it/s]"
     ]
    },
    {
     "name": "stdout",
     "output_type": "stream",
     "text": [
      "DataFrame is missing one or more sites: /data1/santiago/BBBC021/experiments/original/Week7_34681_F08/Nuclei.csv\n",
      "Cell counts:  254.0 440.0 343.0 0.0 \n",
      "\n"
     ]
    },
    {
     "name": "stderr",
     "output_type": "stream",
     "text": [
      " 87%|████████▋ | 2855/3300 [04:21<00:47,  9.40it/s]"
     ]
    },
    {
     "name": "stdout",
     "output_type": "stream",
     "text": [
      "DataFrame is missing one or more sites: /data1/santiago/BBBC021/experiments/original/Week7_34661_F07/Nuclei.csv\n",
      "Cell counts:  342.0 0.0 40.0 347.0 \n",
      "\n"
     ]
    },
    {
     "name": "stderr",
     "output_type": "stream",
     "text": [
      " 87%|████████▋ | 2887/3300 [04:24<00:41,  9.93it/s]"
     ]
    },
    {
     "name": "stdout",
     "output_type": "stream",
     "text": [
      "DataFrame is missing one or more sites: /data1/santiago/BBBC021/experiments/original/Week7_34661_E08/Nuclei.csv\n",
      "Cell counts:  353.0 0.0 190.0 337.0 \n",
      "\n"
     ]
    },
    {
     "name": "stderr",
     "output_type": "stream",
     "text": [
      " 88%|████████▊ | 2920/3300 [04:27<00:35, 10.65it/s]"
     ]
    },
    {
     "name": "stdout",
     "output_type": "stream",
     "text": [
      "DataFrame is missing one or more sites: /data1/santiago/BBBC021/experiments/original/Week3_25461_C06/Nuclei.csv\n",
      "Cell counts:  2.0 0.0 0.0 7.0 \n",
      "\n"
     ]
    },
    {
     "name": "stderr",
     "output_type": "stream",
     "text": [
      " 94%|█████████▎| 3093/3300 [04:43<00:18, 10.95it/s]"
     ]
    },
    {
     "name": "stdout",
     "output_type": "stream",
     "text": [
      "DataFrame is missing one or more sites: /data1/santiago/BBBC021/experiments/original/Week7_34641_F07/Nuclei.csv\n",
      "Cell counts:  475.0 0.0 212.0 0.0 \n",
      "\n"
     ]
    },
    {
     "name": "stderr",
     "output_type": "stream",
     "text": [
      " 94%|█████████▍| 3107/3300 [04:45<00:15, 12.32it/s]"
     ]
    },
    {
     "name": "stdout",
     "output_type": "stream",
     "text": [
      "DataFrame is missing one or more sites: /data1/santiago/BBBC021/experiments/original/Week7_34641_G10/Nuclei.csv\n",
      "Cell counts:  0.0 0.0 317.0 0.0 \n",
      "\n"
     ]
    },
    {
     "name": "stderr",
     "output_type": "stream",
     "text": [
      " 95%|█████████▍| 3122/3300 [04:46<00:17, 10.01it/s]"
     ]
    },
    {
     "name": "stdout",
     "output_type": "stream",
     "text": [
      "DataFrame is missing one or more sites: /data1/santiago/BBBC021/experiments/original/Week9_39206_C05/Nuclei.csv\n",
      "Cell counts:  0.0 34.0 50.0 60.0 \n",
      "\n"
     ]
    },
    {
     "name": "stderr",
     "output_type": "stream",
     "text": [
      " 95%|█████████▍| 3133/3300 [04:47<00:18,  8.87it/s]"
     ]
    },
    {
     "name": "stdout",
     "output_type": "stream",
     "text": [
      "DataFrame is missing one or more sites: /data1/santiago/BBBC021/experiments/original/Week7_34661_G11/Nuclei.csv\n",
      "Cell counts:  252.0 0.0 321.0 0.0 \n",
      "\n"
     ]
    },
    {
     "name": "stderr",
     "output_type": "stream",
     "text": [
      " 95%|█████████▌| 3149/3300 [04:49<00:13, 10.79it/s]"
     ]
    },
    {
     "name": "stdout",
     "output_type": "stream",
     "text": [
      "DataFrame is missing one or more sites: /data1/santiago/BBBC021/experiments/original/Week2_24361_C03/Nuclei.csv\n",
      "Cell counts:  0.0 9.0 0.0 2.0 \n",
      "\n"
     ]
    },
    {
     "name": "stderr",
     "output_type": "stream",
     "text": [
      " 96%|█████████▌| 3166/3300 [04:50<00:11, 11.56it/s]"
     ]
    },
    {
     "name": "stdout",
     "output_type": "stream",
     "text": [
      "DataFrame is missing one or more sites: /data1/santiago/BBBC021/experiments/original/Week10_40119_F11/Nuclei.csv\n",
      "Cell counts:  0.0 0.0 0.0 0.0 \n",
      "\n"
     ]
    },
    {
     "name": "stderr",
     "output_type": "stream",
     "text": [
      " 96%|█████████▌| 3172/3300 [04:51<00:11, 10.96it/s]"
     ]
    },
    {
     "name": "stdout",
     "output_type": "stream",
     "text": [
      "DataFrame is missing one or more sites: /data1/santiago/BBBC021/experiments/original/Week7_34681_E10/Nuclei.csv\n",
      "Cell counts:  391.0 0.0 443.0 0.0 \n",
      "\n"
     ]
    },
    {
     "name": "stderr",
     "output_type": "stream",
     "text": [
      " 98%|█████████▊| 3250/3300 [04:57<00:04, 12.33it/s]"
     ]
    },
    {
     "name": "stdout",
     "output_type": "stream",
     "text": [
      "DataFrame is missing one or more sites: /data1/santiago/BBBC021/experiments/original/Week7_34681_B09/Nuclei.csv\n",
      "Cell counts:  404.0 0.0 172.0 0.0 \n",
      "\n"
     ]
    },
    {
     "name": "stderr",
     "output_type": "stream",
     "text": [
      "100%|█████████▉| 3299/3300 [05:00<00:00, 13.91it/s]"
     ]
    },
    {
     "name": "stdout",
     "output_type": "stream",
     "text": [
      "DataFrame is missing one or more sites: /data1/santiago/BBBC021/experiments/original/Week7_34681_G11/Nuclei.csv\n",
      "Cell counts:  437.0 0.0 0.0 0.0 \n",
      "\n"
     ]
    },
    {
     "name": "stderr",
     "output_type": "stream",
     "text": [
      "100%|██████████| 3300/3300 [05:01<00:00, 10.96it/s]\n"
     ]
    }
   ],
   "source": [
    "for filename in tqdm.tqdm(orig_image_csvs):\n",
    "    week = filename.split('/')[-2].split('_')[0]\n",
    "    path = os.path.join(out_path, week)\n",
    "    if not os.path.exists(path):\n",
    "        os.mkdir(path)\n",
    "    image_df = pandas.read_csv(filename)\n",
    "    nuclei_df = pandas.read_csv(nuclei_path(filename))\n",
    "    if len(nuclei_df[\"ImageNumber\"].unique()) != 4:\n",
    "        print(\"DataFrame is missing one or more sites: \" + nuclei_path(filename))\n",
    "        print(\"Cell counts: \", end=\" \")\n",
    "        for i in range(len(image_df)):\n",
    "            print(image_df[\"Count_Nuclei\"][i], end=\" \")\n",
    "        print(\"\\n\")\n",
    "    for i in range(len(nuclei_df[\"ImageNumber\"].unique())):\n",
    "        df = pandas.DataFrame()\n",
    "        filtered = nuclei_df[nuclei_df[\"ImageNumber\"] == nuclei_df[\"ImageNumber\"].unique()[i]]\n",
    "        df[\"Nuclei_Location_Center_X\"] = filtered[\"Location_Center_X\"]\n",
    "        df[\"Nuclei_Location_Center_Y\"] = filtered[\"Location_Center_Y\"]\n",
    "        plate = image_df[\"Metadata_Plate\"][i]\n",
    "        well = image_df[\"Metadata_Well\"][i]\n",
    "        site = re.search('s\\d', image_df[\"URL_DAPI\"][i]).group(0)\n",
    "        df.to_csv(os.path.join(path, plate + \"_\" + well + \"_\" + site + \".csv\"), index=False)"
   ]
  },
  {
   "cell_type": "code",
   "execution_count": null,
   "metadata": {
    "collapsed": true
   },
   "outputs": [],
   "source": []
  }
 ],
 "metadata": {
  "kernelspec": {
   "display_name": "Python 3",
   "language": "python",
   "name": "python3"
  },
  "language_info": {
   "codemirror_mode": {
    "name": "ipython",
    "version": 3
   },
   "file_extension": ".py",
   "mimetype": "text/x-python",
   "name": "python",
   "nbconvert_exporter": "python",
   "pygments_lexer": "ipython3",
   "version": "3.6.1"
  }
 },
 "nbformat": 4,
 "nbformat_minor": 2
}
