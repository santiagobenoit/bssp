{
 "cells": [
  {
   "cell_type": "code",
   "execution_count": 1,
   "metadata": {
    "collapsed": true
   },
   "outputs": [],
   "source": [
    "%matplotlib inline\n",
    "import pandas\n",
    "import os\n",
    "import sklearn.neighbors\n",
    "import numpy\n",
    "import seaborn\n",
    "import matplotlib.pyplot as plt"
   ]
  },
  {
   "cell_type": "code",
   "execution_count": 2,
   "metadata": {
    "collapsed": true
   },
   "outputs": [],
   "source": [
    "treatments = pandas.read_csv(\"/data1/santiago/BBBC021/experiments/original/collapsed/Treatments.txt\", sep='\\t')"
   ]
  },
  {
   "cell_type": "code",
   "execution_count": 3,
   "metadata": {
    "collapsed": true
   },
   "outputs": [],
   "source": [
    "sym = ['A','B','C','D','E','F','G','H','I','J','K','L']"
   ]
  },
  {
   "cell_type": "code",
   "execution_count": 4,
   "metadata": {
    "collapsed": true
   },
   "outputs": [],
   "source": [
    "compounds = treatments[\"compound\"].unique().tolist()\n",
    "compounds.remove(\"DMSO\")"
   ]
  },
  {
   "cell_type": "code",
   "execution_count": 5,
   "metadata": {
    "collapsed": true
   },
   "outputs": [],
   "source": [
    "moa = treatments[\"moa\"].unique().tolist()\n",
    "moa.remove(\"DMSO\")\n",
    "moa.sort()\n",
    "treatments[\"moa_id\"] = 0\n",
    "for i in range(len(moa)):\n",
    "    treatments.loc[treatments[\"moa\"] == moa[i], \"moa_id\"] = i"
   ]
  },
  {
   "cell_type": "code",
   "execution_count": 6,
   "metadata": {
    "collapsed": true
   },
   "outputs": [],
   "source": [
    "all_predictions = []\n",
    "all_truth = []\n",
    "for compound in compounds:\n",
    "    train = treatments[treatments[\"compound\"] != compound]\n",
    "    test = treatments[treatments[\"compound\"] == compound]\n",
    "    train_features = train.select_dtypes([numpy.number]).drop([\"concentration\", \"moa_id\"], axis=1).values\n",
    "    test_features = test.select_dtypes([numpy.number]).drop([\"concentration\", \"moa_id\"], axis=1).values\n",
    "    train_labels = train[\"moa_id\"].values\n",
    "    test_labels = test[\"moa_id\"].values\n",
    "    classifier = sklearn.neighbors.KNeighborsClassifier(n_neighbors=1, algorithm='brute', metric='correlation')\n",
    "    classifier.fit(train_features, train_labels)\n",
    "    predictions = classifier.predict(test_features)\n",
    "    all_predictions += predictions.tolist()\n",
    "    all_truth += test_labels.tolist()"
   ]
  },
  {
   "cell_type": "code",
   "execution_count": 7,
   "metadata": {
    "collapsed": true
   },
   "outputs": [],
   "source": [
    "correct = numpy.asarray(all_predictions) == numpy.asarray(all_truth)\n",
    "accuracy = numpy.sum(correct) / len(correct)"
   ]
  },
  {
   "cell_type": "code",
   "execution_count": 8,
   "metadata": {},
   "outputs": [
    {
     "name": "stderr",
     "output_type": "stream",
     "text": [
      "/usr/local/lib/python3.6/site-packages/matplotlib/font_manager.py:1297: UserWarning: findfont: Font family ['sans-serif'] not found. Falling back to DejaVu Sans\n",
      "  (prop.get_family(), self.defaultFamily[fontext]))\n"
     ]
    },
    {
     "name": "stdout",
     "output_type": "stream",
     "text": [
      "Accuracy: 80.58252427184466%\n"
     ]
    },
    {
     "data": {
      "image/png": "[encoded data removed]",
      "text/plain": [
       "<matplotlib.figure.Figure at 0x7fc8f51475c0>"
      ]
     },
     "metadata": {},
     "output_type": "display_data"
    }
   ],
   "source": [
    "conf = sklearn.metrics.confusion_matrix(all_truth, all_predictions)\n",
    "plot = seaborn.heatmap(conf, annot=True, square=True, xticklabels=sym, yticklabels=sym)\n",
    "#plot.get_figure().savefig(\"/data1/santiago/BBBC021/experiments/original/cp_confusion_matrix.png\")\n",
    "print(\"Accuracy: {}%\".format(accuracy*100))\n",
    "plt.tight_layout()"
   ]
  },
  {
   "cell_type": "code",
   "execution_count": null,
   "metadata": {
    "collapsed": true
   },
   "outputs": [],
   "source": []
  }
 ],
 "metadata": {
  "kernelspec": {
   "display_name": "Python 3",
   "language": "python",
   "name": "python3"
  },
  "language_info": {
   "codemirror_mode": {
    "name": "ipython",
    "version": 3
   },
   "file_extension": ".py",
   "mimetype": "text/x-python",
   "name": "python",
   "nbconvert_exporter": "python",
   "pygments_lexer": "ipython3",
   "version": "3.6.1"
  }
 },
 "nbformat": 4,
 "nbformat_minor": 2
}
