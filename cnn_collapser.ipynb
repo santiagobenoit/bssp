{
 "cells": [
  {
   "cell_type": "code",
   "execution_count": 1,
   "metadata": {
    "collapsed": true
   },
   "outputs": [],
   "source": [
    "import pandas\n",
    "import os\n",
    "import glob\n",
    "import numpy\n",
    "import tqdm"
   ]
  },
  {
   "cell_type": "code",
   "execution_count": null,
   "metadata": {
    "collapsed": true
   },
   "outputs": [],
   "source": [
    "wells = glob.glob(\"/data1/santiago/BBBC021/experiments/cnn/normalized/*.csv\")\n",
    "out_file = \"/data1/santiago/BBBC021/experiments/cnn/collapsed/Wells.csv\""
   ]
  },
  {
   "cell_type": "code",
   "execution_count": null,
   "metadata": {},
   "outputs": [
    {
     "name": "stderr",
     "output_type": "stream",
     "text": [
      " 12%|█▏        | 398/3300 [05:43<58:14,  1.20s/it]  "
     ]
    }
   ],
   "source": [
    "everything = []\n",
    "for well in tqdm.tqdm(wells):\n",
    "    welldf = pandas.read_csv(well)\n",
    "    welldf = welldf.dropna(axis=0)\n",
    "    collapsed = welldf.mean()\n",
    "    collapsed[\"Plate\"] = os.path.basename(well[:-8])\n",
    "    collapsed[\"Well\"] = well.split('_')[-1][:-4]\n",
    "    everything.append(collapsed)\n",
    "everythingdf = pandas.DataFrame(everything)\n",
    "everythingdf.to_csv(out_file, index=False)"
   ]
  },
  {
   "cell_type": "code",
   "execution_count": null,
   "metadata": {},
   "outputs": [],
   "source": []
  },
  {
   "cell_type": "code",
   "execution_count": null,
   "metadata": {},
   "outputs": [],
   "source": []
  },
  {
   "cell_type": "code",
   "execution_count": null,
   "metadata": {
    "collapsed": true
   },
   "outputs": [],
   "source": []
  }
 ],
 "metadata": {
  "kernelspec": {
   "display_name": "Python 3",
   "language": "python",
   "name": "python3"
  },
  "language_info": {
   "codemirror_mode": {
    "name": "ipython",
    "version": 3
   },
   "file_extension": ".py",
   "mimetype": "text/x-python",
   "name": "python",
   "nbconvert_exporter": "python",
   "pygments_lexer": "ipython3",
   "version": "3.6.1"
  }
 },
 "nbformat": 4,
 "nbformat_minor": 2
}
